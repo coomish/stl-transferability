{
 "cells": [
  {
   "cell_type": "markdown",
   "metadata": {},
   "source": [
    "# Activation Vector\n",
    "\n",
    "Method for calculating a Layer's Activation Vector based on Input (dataset) X"
   ]
  },
  {
   "cell_type": "code",
   "execution_count": null,
   "metadata": {
    "scrolled": true
   },
   "outputs": [],
   "source": [
    "import numpy as np\n",
    "import pandas as pd\n",
    "from keras.models import Model\n",
    "from keras.models import load_model\n",
    "import sys\n",
    "sys.path.append('PATH')\n",
    "from utils import split_dataset, to_supervised, forecast"
   ]
  },
  {
   "cell_type": "code",
   "execution_count": null,
   "metadata": {},
   "outputs": [],
   "source": [
    "def get_activation_vector(model, dataset, layer_number, save_path):\n",
    "    # load model\n",
    "    m = load_model(model)\n",
    "\n",
    "    # define layer\n",
    "    layer = m.layers[layer_number].output # e.g. 4\n",
    "    # build layer model\n",
    "    layer_model = Model(inputs=m.input,\n",
    "                        outputs=layer)\n",
    "    layer_model.summary()\n",
    "    # set dataset variable\n",
    "    #dataset = 'data/branch5.pkl'\n",
    "    # load dataset\n",
    "    df = pd.read_pickle(dataset)\n",
    "    df = pd.DataFrame(data=df.values, index=df.index, columns=['netto'])\n",
    "    # assign features for month, weekday, year\n",
    "    df = df.assign(month=df.index.month)\n",
    "    df = df.assign(weekday=df.index.weekday)\n",
    "    df = df.assign(year=df.index.year)\n",
    "    # split into train and test\n",
    "    train, test = split_dataset(df.values, 365)\n",
    "    # prepare input data for branch 2\n",
    "    n_input = 365\n",
    "    train_x, train_y = to_supervised(train, n_input, 365)\n",
    "\n",
    "    # history is a list of yearly data\n",
    "    history = [x for x in train]\n",
    "\n",
    "    # walk-forward validation over each year (in our case we only predict 1 year!)\n",
    "    prediction = list()\n",
    "    for i in range(len(test)):\n",
    "        # predict the year based on last years history\n",
    "        yhat_sequence = forecast(layer_model, history, n_input)\n",
    "        # store the predictions\n",
    "        prediction.append(yhat_sequence)\n",
    "        # get real observation and add to history for predicting the next year\n",
    "        history.append(test[i, :])\n",
    "\n",
    "    acts = np.array(prediction)\n",
    "    np.savetxt(save_path + str(layer_number) + \".csv\", acts[0], delimiter=\",\")\n",
    "    del m, layer_model"
   ]
  },
  {
   "cell_type": "code",
   "execution_count": null,
   "metadata": {},
   "outputs": [],
   "source": [
    "get_activation_vector('../models/pretrained/path.h5', '../data/preprocessed/path.pkl', 4, \"activations/m5_x5/\")"
   ]
  },
  {
   "cell_type": "markdown",
   "metadata": {},
   "source": [
    "# Get Activation for Model5 on Input Datapoints Branch5 m5(x5)"
   ]
  },
  {
   "cell_type": "code",
   "execution_count": null,
   "metadata": {},
   "outputs": [],
   "source": [
    "i = 4\n",
    "while i < 32:\n",
    "  get_activation_vector('../models/pretrained/path.h5', '../data/preprocessed/path.pkl', i, \"activations/m5_x5/\")\n",
    "  i += 1"
   ]
  },
  {
   "cell_type": "markdown",
   "metadata": {},
   "source": [
    "# Get Activation for Model6 on Input Datapoints Branch6 m6(x6)"
   ]
  },
  {
   "cell_type": "code",
   "execution_count": null,
   "metadata": {},
   "outputs": [],
   "source": [
    "i = 4\n",
    "while i < 32:\n",
    "  get_activation_vector('../models/pretrained/path.h5', '../data/preprocessed/path.pkl', i, \"activations/m6_x6/\")\n",
    "  i += 1"
   ]
  },
  {
   "cell_type": "markdown",
   "metadata": {},
   "source": [
    "# m5(x5), m6(x5) two models, same input datapoints"
   ]
  },
  {
   "cell_type": "code",
   "execution_count": null,
   "metadata": {},
   "outputs": [],
   "source": [
    "i = 4\n",
    "while i < 32:\n",
    "  get_activation_vector('../models/pretrained/path.h5', '../data/preprocessed/path.pkl', i, \"activations/m6_x5/\")\n",
    "  i += 1"
   ]
  },
  {
   "cell_type": "code",
   "execution_count": null,
   "metadata": {},
   "outputs": [],
   "source": []
  }
 ],
 "metadata": {
  "kernelspec": {
   "display_name": "Python 3",
   "language": "python",
   "name": "python3"
  },
  "language_info": {
   "codemirror_mode": {
    "name": "ipython",
    "version": 3
   },
   "file_extension": ".py",
   "mimetype": "text/x-python",
   "name": "python",
   "nbconvert_exporter": "python",
   "pygments_lexer": "ipython3",
   "version": "3.7.4"
  }
 },
 "nbformat": 4,
 "nbformat_minor": 2
}
