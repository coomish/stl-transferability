{
 "cells": [
  {
   "cell_type": "code",
   "execution_count": null,
   "metadata": {},
   "outputs": [],
   "source": [
    "import os, sys\n",
    "import pandas as pd\n",
    "import numpy as np\n",
    "import seaborn as sns\n",
    "from scipy import stats\n",
    "from matplotlib import pyplot as plt\n",
    "import cca_core\n",
    "%matplotlib inline\n"
   ]
  },
  {
   "cell_type": "code",
   "execution_count": null,
   "metadata": {},
   "outputs": [],
   "source": [
    "# Rank Correlation of SVCCA mean model correlation (net similarity) and Transferability (Transfer Performance increase)\n",
    "def rank_pearson_corr(transferability, svcca_corr_all):\n",
    "    # spearman roh rank-correlation\n",
    "    spearman_corr, spearman_pvalue = stats.spearmanr(transferability, svcca_corr_all)\n",
    "    print(\"Spearman Correlation:\", spearman_corr)\n",
    "    print(\"Spearman p_value:\", spearman_pvalue)\n",
    "    print(\"\")\n",
    "    # kendall tau rank-correlation\n",
    "    kendall_tau, kendall_p_value = stats.kendalltau(transferability, svcca_corr_all)\n",
    "    print(\"Kendall Correlation:\", kendall_tau)\n",
    "    print(\"Kendall p_value:\", kendall_p_value)\n",
    "    print(\"\")\n",
    "    # pearson linear correlation for comparison\n",
    "    pearson_corr, pearson_pvalue = stats.pearsonr(transferability, svcca_corr_all)\n",
    "    print(\"Pearson Correlation:\", pearson_corr)\n",
    "    print(\"Pearson p_value:\", pearson_pvalue)"
   ]
  },
  {
   "cell_type": "markdown",
   "metadata": {},
   "source": [
    "# Net similarity for models trained on data set starting 2014"
   ]
  },
  {
   "cell_type": "code",
   "execution_count": null,
   "metadata": {},
   "outputs": [],
   "source": [
    "base_net_similarities = pd.read_csv('../temp/net_similarity_weekly_start2014.csv')\n",
    "\n",
    "# net_similarities visualization\n",
    "print(\"Net Similarity:\")\n",
    "cm = sns.light_palette(\"green\", as_cmap=True)\n",
    "net_sim_visual = base_net_similarities.style.background_gradient(cmap=cm)\n",
    "net_sim_visual"
   ]
  },
  {
   "cell_type": "markdown",
   "metadata": {},
   "source": [
    "columns: target model activation on target data set e.g. N1_D1, N2_D2, ...\n",
    "\n",
    "rows: source model activation on target data set e.g. N1_D1, N2_D1, N3_D1, ...\n",
    "\n",
    "The source model activation is calculated on the target model's data input!"
   ]
  },
  {
   "cell_type": "code",
   "execution_count": null,
   "metadata": {},
   "outputs": [],
   "source": [
    "# heatmap for net similarities\n",
    "\n",
    "sns.set(font_scale=2)\n",
    "ma = sns.diverging_palette(20, 220, n=30)\n",
    "# calculate mean of similarity values to adjust color grading\n",
    "net_sim_mean = base_net_similarities.values.mean()\n",
    "\n",
    "f, ax = plt.subplots(figsize=(9, 9))\n",
    "ax.set_title('Target model')\n",
    "#ax.set_xlabel('Target branch', fontsize=20)\n",
    "ax.tick_params(length=0)\n",
    "ax.xaxis.tick_top()\n",
    "#ax.set_xlabel('Target data set')\n",
    "#rotation='horizontal'\n",
    "#ax.xaxis.set_label_position('top') \n",
    "sns.heatmap(base_net_similarities, annot=True, annot_kws={\"size\": 18}, fmt=\".2%\", linewidths=0.5,\n",
    "            ax=ax,robust=True, cmap=ma, center=net_sim_mean, cbar=False, \n",
    "            xticklabels=['$N_1$','$N_2$','$N_3$','$N_4$','$N_5$','$N_6$'], yticklabels=['$N_1$','$N_2$','$N_3$','$N_4$','$N_5$','$N_6$']) #'RdBu_r'\n",
    "plt.yticks(rotation=0)\n",
    "plt.ylabel('Source model')\n",
    "plt.show()"
   ]
  },
  {
   "cell_type": "markdown",
   "metadata": {},
   "source": [
    "Color grading is not optimal! \n",
    "\n",
    "Therefore plot net similarity heatmap without values=1 (without diagonal)"
   ]
  },
  {
   "cell_type": "code",
   "execution_count": null,
   "metadata": {},
   "outputs": [],
   "source": [
    "# flatten dataframe to array\n",
    "net_sim_array = np.ravel(base_net_similarities.values)\n",
    "\n",
    "# Net similarity without correlation ~ 1 (diagonal)\n",
    "nan_this_values = [0,7,14,21,28,35]\n",
    "net_sim_array[nan_this_values] = np.nan\n",
    "relevant_net_sim = np.split(net_sim_array, 6)\n",
    "relevant_net_sim = pd.DataFrame(relevant_net_sim)\n",
    "\n",
    "# calculate mean value of colums and mean on column means for color grading of heatmap\n",
    "column_means = relevant_net_sim.mean()\n",
    "mean_df = column_means.mean()"
   ]
  },
  {
   "cell_type": "code",
   "execution_count": null,
   "metadata": {},
   "outputs": [],
   "source": [
    "# heatmap\n",
    "f, ax = plt.subplots(figsize=(9, 9))\n",
    "ax.set_title('Target model')\n",
    "#ax.set_xlabel('Target branch', fontsize=20)\n",
    "ax.tick_params(length=0)\n",
    "ax.xaxis.tick_top()\n",
    "#ax.set_xlabel('Target data set')\n",
    "#rotation='horizontal'\n",
    "#ax.xaxis.set_label_position('top') \n",
    "sns.heatmap(relevant_net_sim, annot=True, annot_kws={\"size\": 18}, fmt=\".2%\", linewidths=0.5,\n",
    "            ax=ax,robust=True, cmap=ma, center=mean_df, cbar=False, \n",
    "            xticklabels=['$N_1$','$N_2$','$N_3$','$N_4$','$N_5$','$N_6$'], yticklabels=['$N_1$','$N_2$','$N_3$','$N_4$','$N_5$','$N_6$']) #'RdBu_r'\n",
    "plt.yticks(rotation=0)\n",
    "plt.ylabel('Source model')\n",
    "plt.show()"
   ]
  },
  {
   "cell_type": "markdown",
   "metadata": {},
   "source": [
    "# Transferability (models trained with data start 2014) for comparison"
   ]
  },
  {
   "cell_type": "code",
   "execution_count": null,
   "metadata": {},
   "outputs": [],
   "source": [
    "# 1st degree of transfer (start 2014) values copied from excel file\n",
    "\n",
    "transferability_start2014 = [\n",
    "[0,0.013423099,-0.092960932,0.062774231,-0.109191589,-0.012277359],\n",
    "[-0.028010412,0,0.006744329,0.104365015,-0.077356795,-0.052918723],\n",
    "[0.010684786,0.059061465,0,0.056678394,-0.074594115,0.013772928],\n",
    "[0.029124452,-0.004325828,-0.155972262,0,-0.112854208,0.033113055],\n",
    "[0.037406918,-0.031099238,-0.080301646,0.055497872,0,0.011009972],\n",
    "[0.04302586,0.031204251,-0.076830507,0.076993579,-0.079175326,0]\n",
    "]"
   ]
  },
  {
   "cell_type": "code",
   "execution_count": null,
   "metadata": {},
   "outputs": [],
   "source": [
    "transferability = pd.DataFrame(transferability_start2014)\n",
    "\n",
    "sns.set(font_scale=2)\n",
    "ma = sns.diverging_palette(20, 220, n=30)\n",
    "\n",
    "f, ax = plt.subplots(figsize=(9, 9))\n",
    "ax.set_title('Target data set')\n",
    "#ax.set_xlabel('Target branch', fontsize=20)\n",
    "ax.tick_params(length=0)\n",
    "ax.xaxis.tick_top()\n",
    "#ax.set_xlabel('Target data set')\n",
    "#rotation='horizontal'\n",
    "#ax.xaxis.set_label_position('top') \n",
    "sns.heatmap(transferability, annot=True, annot_kws={\"size\": 18}, fmt=\".2%\", linewidths=0.5,\n",
    "            ax=ax,robust=True, cmap=ma, center=0, cbar=False, \n",
    "            xticklabels=['$D_1$','$D_2$','$D_3$','$D_4$','$D_5$','$D_6$',], yticklabels=['$N_1$','$N_2$','$N_3$','$N_4$','$N_5$','$N_6$']) #'RdBu_r'\n",
    "plt.yticks(rotation=0)\n",
    "plt.ylabel('Source model')\n",
    "plt.show()"
   ]
  },
  {
   "cell_type": "code",
   "execution_count": null,
   "metadata": {},
   "outputs": [],
   "source": [
    "# flatten dataframes to array for correlation calculation\n",
    "\n",
    "# Transferability data frame\n",
    "transfer_array = np.ravel(transferability.values)"
   ]
  },
  {
   "cell_type": "code",
   "execution_count": null,
   "metadata": {},
   "outputs": [],
   "source": [
    "# Rank (Spearman) and Pearson Correlation \n",
    "# without transferability=0 and net_similarity=1 for all branches / diagonal in matrix\n",
    "print('Rank and Pearson Correlation without transferability=0 and net_similarity=1 for all branches')\n",
    "print(\"\")\n",
    "\n",
    "relevant_indices = [1,2,3,4,5,6,8,9,10,11,12,13,15,16,17,18,19,20,22,23,24,25,26,27,29,30,31,32,33,34]\n",
    "# len(transfer_array[relevant_indices])\n",
    "#rank_pearson_corr(transfer_array, net_sim_array)\n",
    "rank_pearson_corr(transfer_array[relevant_indices], net_sim_array[relevant_indices]) #"
   ]
  },
  {
   "cell_type": "code",
   "execution_count": null,
   "metadata": {
    "scrolled": true
   },
   "outputs": [],
   "source": [
    "# plot values for net_sim and transferability\n",
    "x = net_sim_array[relevant_indices]\n",
    "y = transfer_array[relevant_indices]\n",
    "\n",
    "plt.scatter(x, y)\n",
    "plt.xlabel('net similarity')\n",
    "plt.ylabel('transferability')\n",
    "# trendline\n",
    "z = np.polyfit(x, y, 1)\n",
    "p = np.poly1d(z)\n",
    "plt.plot(x,p(x),\"r--\")\n",
    "\n",
    "plt.show()"
   ]
  },
  {
   "cell_type": "code",
   "execution_count": null,
   "metadata": {},
   "outputs": [],
   "source": []
  }
 ],
 "metadata": {
  "kernelspec": {
   "display_name": "Python 3",
   "language": "python",
   "name": "python3"
  },
  "language_info": {
   "codemirror_mode": {
    "name": "ipython",
    "version": 3
   },
   "file_extension": ".py",
   "mimetype": "text/x-python",
   "name": "python",
   "nbconvert_exporter": "python",
   "pygments_lexer": "ipython3",
   "version": "3.7.4"
  }
 },
 "nbformat": 4,
 "nbformat_minor": 2
}
