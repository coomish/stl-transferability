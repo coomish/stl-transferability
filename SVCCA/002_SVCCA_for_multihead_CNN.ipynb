{
 "cells": [
  {
   "cell_type": "markdown",
   "metadata": {},
   "source": [
    "This notebook contains:\n",
    "\n",
    "- SVCCA Net Similarity calculation for branch 1 as target and correlation with transferability\n",
    "- SVCCA Net Similarity calculation for all branches and correlation with transferability\n",
    "- Row-wise layer similarity comparison with transferability for all branches\n",
    "- Column-wise/head-wise layer similarity comparison with transferability for all branches\n",
    "- Single layer visualization of SVCCA Similarity for target branch 1 compared with branch 1 to branch 6"
   ]
  },
  {
   "cell_type": "code",
   "execution_count": null,
   "metadata": {},
   "outputs": [],
   "source": [
    "import os, sys\n",
    "from matplotlib import pyplot as plt\n",
    "%matplotlib inline\n",
    "import time\n",
    "import numpy as np\n",
    "import pickle\n",
    "import pandas\n",
    "import gzip\n",
    "import seaborn as sns\n",
    "from scipy import stats\n",
    "\n",
    "sys.path.append(\"..\")\n",
    "import cca_core"
   ]
  },
  {
   "cell_type": "code",
   "execution_count": null,
   "metadata": {},
   "outputs": [],
   "source": [
    "def _plot_helper(arr, xlabel, ylabel):\n",
    "    plt.plot(arr, lw=2.0)\n",
    "    plt.xlabel(xlabel)\n",
    "    plt.ylabel(ylabel)\n",
    "    plt.grid()\n",
    "    \n",
    "def calculate_SVCCA(activations1, activations2, layer_number):\n",
    "    # SVCCA different x\n",
    "    # print(\"Results using SVCCA keeping 60 dims\")\n",
    "    # load activations\n",
    "    acts1 = np.genfromtxt(activations1 + str(layer_number) + '.csv', delimiter=',')\n",
    "    acts2 = np.genfromtxt(activations2 + str(layer_number) + '.csv', delimiter=',')\n",
    "\n",
    "    # Mean subtract activations\n",
    "    cacts1 = acts1  # - np.mean(acts1, axis=0, keepdims=True)\n",
    "    cacts2 = acts2  # - np.mean(acts2, axis=0, keepdims=True)\n",
    "\n",
    "    # Perform SVD\n",
    "    U1, s1, V1 = np.linalg.svd(cacts1, full_matrices=False)\n",
    "    U2, s2, V2 = np.linalg.svd(cacts2, full_matrices=False)\n",
    "\n",
    "    svacts1 = np.dot(s1[:60] * np.eye(60), V1[:60])  # default: np.dot(s1[:20]*np.eye(20), V1[:20]), 49\n",
    "    # can also compute as svacts1 = np.dot(U1.T[:20], cacts1)\n",
    "    svacts2 = np.dot(s2[:60] * np.eye(60), V2[:60])  # default: np.dot(s2[:20]*np.eye(20), V2[:20]), 49\n",
    "    # can also compute as svacts1 = np.dot(U2.T[:20], cacts2)\n",
    "\n",
    "    svcca_results = cca_core.get_cca_similarity(svacts1, svacts2, epsilon=1e-10, verbose=False)  # 1e-10\n",
    "    # print(\"Layer Number:\", layer_number)\n",
    "    # print(\"SVCCA Correlation Coefficient:\", np.mean(svcca_results[\"cca_coef1\"]))\n",
    "    return np.mean(svcca_results[\"cca_coef1\"])  # , acts1, cacts1, U1, s1, V1, svacts1\n",
    "\n",
    "\n",
    "def calaculate_mean_model_correlation(activation1, activation2, conv_layers):\n",
    "    # list for storing layer correlations\n",
    "    layer_corr = []\n",
    "    # calculate and save SVCCA correlation between all layers of two base models\n",
    "    for conv in conv_layers:\n",
    "        corr = calculate_SVCCA(activation1, activation2, conv)  # , acts1, cacts1, U1, s1, V1, svacts1\n",
    "        layer_corr.append(corr)\n",
    "    # calculate mean model correlation of stored layer correlation\n",
    "    mean_model_corr = np.mean(layer_corr)\n",
    "    print(activation1[-6:] + activation2[-6:-1] + \" Mean Model Correlation:\", mean_model_corr)\n",
    "    return mean_model_corr"
   ]
  },
  {
   "cell_type": "markdown",
   "metadata": {},
   "source": [
    "# SVCCA with Activation Vectors based on Target data, Branch 1 as Target"
   ]
  },
  {
   "cell_type": "code",
   "execution_count": null,
   "metadata": {},
   "outputs": [],
   "source": [
    "# list of all convolutional layers for which we can calculate SVCCA\n",
    "conv_layers = [4, 5, 6, 7, 8, 9, 10, 11, 12, 13, 14, 15, 16, 17, 18, 19, 20, 21, 22,\n",
    "               23]\n",
    "\n",
    "print('Correlation between Models comparing all available Convolutional Layers:')\n",
    "act1_target = 'activations/m1_x1/'\n",
    "act1_list = ['activations/m1_x1/',\n",
    "             'activations/m2_x1/',\n",
    "             'activations/m3_x1/',\n",
    "             'activations/m4_x1/',\n",
    "             'activations/m5_x1/',\n",
    "             'activations/m6_x1/']\n",
    "svcca_corr = []\n",
    "for act1 in act1_list:\n",
    "    mean_model_corr = calaculate_mean_model_correlation(act1_target, act1, conv_layers)\n",
    "    svcca_corr.append(mean_model_corr)"
   ]
  },
  {
   "cell_type": "code",
   "execution_count": null,
   "metadata": {},
   "outputs": [],
   "source": [
    "# Branch 1 as Target and all values for transferability\n",
    "transferability_branch1 = [0.0000,-0.0888,-0.0644,-0.0584,-0.0275,-0.1820]"
   ]
  },
  {
   "cell_type": "code",
   "execution_count": null,
   "metadata": {},
   "outputs": [],
   "source": [
    "# Rank (Spearman) and Pearson Correlation \n",
    "# without transferability = 0 and net similarity = 1 for branch 1\n",
    "print('Correlations without transferability=0 and net_similartiy=1:')\n",
    "spearman_corr, spearman_pvalue = stats.spearmanr(transferability_branch1[1:], svcca_corr[1:])\n",
    "print(\"Spearman Correlation:\", spearman_corr)\n",
    "print(\"Spearman p_value:\", spearman_pvalue)\n",
    "pearson_corr, pearson_pvalue = stats.pearsonr(transferability_branch1[1:], svcca_corr[1:])\n",
    "print(\"Pearson Correlation:\", pearson_corr)\n",
    "print(\"Pearson p_value:\", pearson_pvalue)"
   ]
  },
  {
   "cell_type": "markdown",
   "metadata": {},
   "source": [
    "If we don't take the values for Net Similarity S_N(M1,X1)=1 and Transferability T(M1,X1)=0 into calculation, we get a small negative correlation of the other five value pairs (S_N(M2,X1), T(M2,X1)) ... (S_N(M6,X1), T(M6,X1))\n",
    "\n",
    "but p-value > 0.05. So we can not disprove H0."
   ]
  },
  {
   "cell_type": "markdown",
   "metadata": {},
   "source": [
    "# SVCCA with Activation vectors based on Target data, for all branches"
   ]
  },
  {
   "cell_type": "code",
   "execution_count": null,
   "metadata": {},
   "outputs": [],
   "source": [
    "def run_svcca_for_all_branches(conv_layers):\n",
    "    svcca_corr_all = []\n",
    "    \n",
    "    act1_target = 'activations/m1_x1/'\n",
    "    act1_list = ['activations/m1_x1/',\n",
    "                 'activations/m2_x1/',\n",
    "                 'activations/m3_x1/',\n",
    "                 'activations/m4_x1/',\n",
    "                 'activations/m5_x1/',\n",
    "                 'activations/m6_x1/']\n",
    "    for act1 in act1_list:\n",
    "        corr_branch1 = calaculate_mean_model_correlation(act1_target, act1, conv_layers)\n",
    "        svcca_corr_all.append(corr_branch1)\n",
    "\n",
    "    act2_target = 'activations/m2_x2/'\n",
    "    act2_list = ['activations/m1_x2/',\n",
    "                 'activations/m2_x2/',\n",
    "                 'activations/m3_x2/',\n",
    "                 'activations/m4_x2/',\n",
    "                 'activations/m5_x2/',\n",
    "                 'activations/m6_x2/']\n",
    "    for act2 in act2_list:\n",
    "        corr_branch2 = calaculate_mean_model_correlation(act2_target, act2, conv_layers)\n",
    "        svcca_corr_all.append(corr_branch2)\n",
    "\n",
    "    act3_target = 'activations/m3_x3/'\n",
    "    act3_list = ['activations/m1_x3/',\n",
    "                 'activations/m2_x3/',\n",
    "                 'activations/m3_x3/',\n",
    "                 'activations/m4_x3/',\n",
    "                 'activations/m5_x3/',\n",
    "                 'activations/m6_x3/']\n",
    "    for act3 in act3_list:\n",
    "        corr_branch3 = calaculate_mean_model_correlation(act3_target, act3, conv_layers)\n",
    "        svcca_corr_all.append(corr_branch3)\n",
    "\n",
    "    act4_target = 'activations/m4_x4/'\n",
    "    act4_list = ['activations/m1_x4/',\n",
    "                 'activations/m2_x4/',\n",
    "                 'activations/m3_x4/',\n",
    "                 'activations/m4_x4/',\n",
    "                 'activations/m5_x4/',\n",
    "                 'activations/m6_x4/']\n",
    "    for act4 in act4_list:\n",
    "        corr_branch4 = calaculate_mean_model_correlation(act4_target, act4, conv_layers)\n",
    "        svcca_corr_all.append(corr_branch4)\n",
    "\n",
    "    act5_target = 'activations/m5_x5/'\n",
    "    act5_list = ['activations/m1_x5/',\n",
    "                 'activations/m2_x5/',\n",
    "                 'activations/m3_x5/',\n",
    "                 'activations/m4_x5/',\n",
    "                 'activations/m5_x5/',\n",
    "                 'activations/m6_x5/']\n",
    "    for act5 in act5_list:\n",
    "        corr_branch5 = calaculate_mean_model_correlation(act5_target, act5, conv_layers)\n",
    "        svcca_corr_all.append(corr_branch5)\n",
    "\n",
    "    act6_target = 'activations/m6_x6/'\n",
    "    act6_list = ['activations/m1_x6/',\n",
    "                 'activations/m2_x6/',\n",
    "                 'activations/m3_x6/',\n",
    "                 'activations/m4_x6/',\n",
    "                 'activations/m5_x6/',\n",
    "                 'activations/m6_x6/']\n",
    "    for act6 in act6_list:\n",
    "        corr_branch6 = calaculate_mean_model_correlation(act6_target, act6, conv_layers)\n",
    "        svcca_corr_all.append(corr_branch6)\n",
    "    return svcca_corr_all\n",
    "svcca_corr_all = run_svcca_for_all_branches(conv_layers)"
   ]
  },
  {
   "cell_type": "code",
   "execution_count": null,
   "metadata": {},
   "outputs": [],
   "source": [
    "# table for visualization\n",
    "all_corr = np.array(svcca_corr_all)\n",
    "all_corr = np.array_split(all_corr, 6)\n",
    "df = pandas.DataFrame.from_records(all_corr)\n",
    "df = df.T\n",
    "cm = sns.light_palette(\"green\", as_cmap=True)\n",
    "df = df.style.background_gradient(cmap=cm)\n",
    "df\n",
    "#sns.heatmap(df, cmap='RdYlGn_r', annot=True)"
   ]
  },
  {
   "cell_type": "code",
   "execution_count": null,
   "metadata": {},
   "outputs": [],
   "source": [
    "# get transferability values\n",
    "# transferability values / transfer performance increase in %\n",
    "transferability = [\n",
    "0,-0.027949349,-0.004832516,0.000775434,0.029925489,-0.115910142,\n",
    "0.084846395,0,0.028964833,0.050420863,0.051391465,0.051558979,\n",
    "-0.011856568,0.003867993,0,-0.005315545,-0.05501885,-0.083033235,\n",
    "0.156341325,0.05825559,0.117967825,0,0.086251248,0.069640608,\n",
    "0.097457896,0.096710167,0.096331993,0.065604118,0,0.341597037,\n",
    "-0.00821286,0.233046817,-0.185002721,-0.015122716,-0.012676524,0\n",
    "]"
   ]
  },
  {
   "cell_type": "code",
   "execution_count": null,
   "metadata": {},
   "outputs": [],
   "source": [
    "print('Visualization of transferability results:')\n",
    "transfer = np.array_split(transferability, 6)\n",
    "df_transfer = pandas.DataFrame.from_records(transfer)\n",
    "df_transfer = df_transfer.T\n",
    "#cm_trans = sns.light_palette(\"blue\", as_cmap=True)\n",
    "#df_transfer = df_transfer.style.background_gradient(cmap=cm_trans)\n",
    "#df_transfer\n",
    "sns.heatmap(df_transfer, cmap='Greens', annot=True)"
   ]
  },
  {
   "cell_type": "code",
   "execution_count": null,
   "metadata": {},
   "outputs": [],
   "source": [
    "# Rank Correlation of SVCCA mean model correlation (net similarity) and Transferability (Transfer Performance increase)\n",
    "# All Branches\n",
    "def rank_pearson_corr(transferability, svcca_corr_all):\n",
    "    spearman_corr, spearman_pvalue = stats.spearmanr(transferability, svcca_corr_all)\n",
    "    print(\"Spearman Correlation:\", spearman_corr)\n",
    "    print(\"Spearman p_value:\", spearman_pvalue)\n",
    "    pearson_corr, pearson_pvalue = stats.pearsonr(transferability, svcca_corr_all)\n",
    "    print(\"Pearson Correlation:\", pearson_corr)\n",
    "    print(\"Pearson p_value:\", pearson_pvalue)"
   ]
  },
  {
   "cell_type": "code",
   "execution_count": null,
   "metadata": {},
   "outputs": [],
   "source": [
    "# Rank (Spearman) and Pearson Correlation \n",
    "# without transferability=0 and net_similarity=1 for all branches\n",
    "print('Rank and Pearson Correlation without transferability=0 and net_similarity=1 for all branches')\n",
    "relevant_indices = [1,2,3,4,5,6,8,9,10,11,12,13,15,16,17,18,19,20,22,23,24,25,26,27,29,30,31,32,33,34]\n",
    "transferability_no_zeros = np.array(transferability)\n",
    "net_sim_no_ones = np.array(svcca_corr_all)\n",
    "rank_pearson_corr(transferability_no_zeros[relevant_indices], net_sim_no_ones[relevant_indices])"
   ]
  },
  {
   "cell_type": "markdown",
   "metadata": {},
   "source": [
    "H0: Correlation = 0\n",
    "\n",
    "Stress H0: positive spearman correlation = 0.20845\n",
    "\n",
    "but p-value > 0.05. So we can not disprove H0.\n",
    "\n"
   ]
  },
  {
   "cell_type": "markdown",
   "metadata": {},
   "source": [
    "# row-wise comparison of correlation, all branches"
   ]
  },
  {
   "cell_type": "markdown",
   "metadata": {},
   "source": [
    "Try calculating the Correlation by just comparing convolutional layer 4, 5, 6, 7 (first conv row of model)"
   ]
  },
  {
   "cell_type": "code",
   "execution_count": null,
   "metadata": {},
   "outputs": [],
   "source": [
    "print('row_1:')\n",
    "conv_row1 = [4, 5, 6, 7]\n",
    "svcca_row1 = run_svcca_for_all_branches(conv_row1)\n",
    "relevant_indices = [1,2,3,4,5,6,8,9,10,11,12,13,15,16,17,18,19,20,22,23,24,25,26,27,29,30,31,32,33,34]\n",
    "transferability = np.array(transferability)\n",
    "svcca_row1 = np.array(svcca_row1)\n",
    "rank_pearson_corr(transferability[relevant_indices], svcca_row1[relevant_indices])"
   ]
  },
  {
   "cell_type": "markdown",
   "metadata": {},
   "source": [
    "Postitive correlation between transferability and net similarity\n",
    "\n",
    "but p-value > 0.05. So we can not disprove H0."
   ]
  },
  {
   "cell_type": "markdown",
   "metadata": {},
   "source": [
    "Correlations for other rows:"
   ]
  },
  {
   "cell_type": "code",
   "execution_count": null,
   "metadata": {},
   "outputs": [],
   "source": [
    "print('row_2:')\n",
    "conv_row2 = [8, 9, 10, 11]\n",
    "svcca_row2 = np.array(run_svcca_for_all_branches(conv_row2))\n",
    "rank_pearson_corr(transferability[relevant_indices], svcca_row2[relevant_indices])\n",
    "print('row_3:')\n",
    "conv_row3 = [12, 13, 14, 15]\n",
    "svcca_row3 = np.array(run_svcca_for_all_branches(conv_row3))\n",
    "rank_pearson_corr(transferability[relevant_indices], svcca_row3[relevant_indices])\n",
    "print('row_4:')\n",
    "conv_row4 = [16, 17, 18, 19]\n",
    "svcca_row4 = np.array(run_svcca_for_all_branches(conv_row4))\n",
    "rank_pearson_corr(transferability[relevant_indices], svcca_row4[relevant_indices])\n",
    "print('row_5_pooling:')\n",
    "conv_row5 = [20, 21, 22, 23]\n",
    "svcca_row5 = np.array(run_svcca_for_all_branches(conv_row5))\n",
    "rank_pearson_corr(transferability[relevant_indices], svcca_row5[relevant_indices])"
   ]
  },
  {
   "cell_type": "markdown",
   "metadata": {},
   "source": [
    "Row 4:\n",
    "\n",
    "Spearman Correlation: 0.23381535038932147\n",
    "Spearman p_value: 0.21365894749258096\n",
    "\n",
    "p-value > 0.05"
   ]
  },
  {
   "cell_type": "markdown",
   "metadata": {},
   "source": [
    "# Column-wise comparison of correlation (head-wise)"
   ]
  },
  {
   "cell_type": "markdown",
   "metadata": {},
   "source": [
    "Try calculating the Correlation by just comparing convolutional layer 4, 8, 12, 16, 20 of the first head (revenue)"
   ]
  },
  {
   "cell_type": "code",
   "execution_count": null,
   "metadata": {
    "scrolled": false
   },
   "outputs": [],
   "source": [
    "head1_layers = [4, 8, 12, 16, 20] # revenue\n",
    "svcca_head1 = np.array(run_svcca_for_all_branches(head1_layers))\n",
    "rank_pearson_corr(transferability[relevant_indices], svcca_head1[relevant_indices])"
   ]
  },
  {
   "cell_type": "markdown",
   "metadata": {},
   "source": [
    "Try calculating the Correlation by just comparing convolutional layer 5, 9, 13, 17, 21 of the second head (month)"
   ]
  },
  {
   "cell_type": "code",
   "execution_count": null,
   "metadata": {},
   "outputs": [],
   "source": [
    "head2_layers = [5, 9, 13, 17, 21] # month\n",
    "svcca_head2 = np.array(run_svcca_for_all_branches(head2_layers))\n",
    "rank_pearson_corr(transferability[relevant_indices], svcca_head2[relevant_indices])"
   ]
  },
  {
   "cell_type": "markdown",
   "metadata": {},
   "source": [
    "Try calculating the Correlation by just comparing convolutional layer 6, 10, 14, 18, 22 of the third head (weekday)"
   ]
  },
  {
   "cell_type": "code",
   "execution_count": null,
   "metadata": {},
   "outputs": [],
   "source": [
    "head3_layers = [6, 10, 14, 18, 22] # weekday\n",
    "svcca_head3 = np.array(run_svcca_for_all_branches(head3_layers))\n",
    "rank_pearson_corr(transferability[relevant_indices], svcca_head3[relevant_indices])"
   ]
  },
  {
   "cell_type": "markdown",
   "metadata": {},
   "source": [
    "Try calculating the Correlation by just comparing convolutional layer 7, 11, 15, 19, 23 of the third head (year)"
   ]
  },
  {
   "cell_type": "code",
   "execution_count": null,
   "metadata": {},
   "outputs": [],
   "source": [
    "head4_layers = [7, 11, 15, 19, 23] # year\n",
    "svcca_head4 = np.array(run_svcca_for_all_branches(head4_layers))\n",
    "rank_pearson_corr(transferability[relevant_indices], svcca_head4[relevant_indices])"
   ]
  },
  {
   "cell_type": "markdown",
   "metadata": {},
   "source": [
    "There is a positive correlation between transferability and net similarity if we look at the distinct heads of the multihead CNN models (revenue, month, weekday and year).\n",
    "\n",
    "but p-value > 0.05. So we can not disprove H0."
   ]
  },
  {
   "cell_type": "markdown",
   "metadata": {},
   "source": [
    "# Single layer visualization (layer 4 to 23), Branch 1 as Target"
   ]
  },
  {
   "cell_type": "code",
   "execution_count": null,
   "metadata": {},
   "outputs": [],
   "source": [
    "conv_layers = [4, 5, 6, 7, 8, 9, 10, 11, 12, 13, 14, 15, 16, 17, 18, 19, 20, 21, 22, 23]\n",
    "\n",
    "model_corr = []\n",
    "for act1 in act1_list:\n",
    "    layer_corr = []\n",
    "    for conv in conv_layers:\n",
    "        corr = calculate_SVCCA(act1_target, act1, conv)\n",
    "        layer_corr.append(corr)\n",
    "    model_corr.append(layer_corr)"
   ]
  },
  {
   "cell_type": "code",
   "execution_count": null,
   "metadata": {},
   "outputs": [],
   "source": [
    "df = pandas.DataFrame.from_records(model_corr, columns=conv_layers)"
   ]
  },
  {
   "cell_type": "markdown",
   "metadata": {},
   "source": [
    "The following table/df shows the distinct layer SVCCA correlations (from layer 4 to layer 23) \n",
    "for target branch 1 compared to branch 1 to 6 (index 0-5)"
   ]
  },
  {
   "cell_type": "code",
   "execution_count": null,
   "metadata": {},
   "outputs": [],
   "source": [
    "layerwise = df.T\n",
    "\n",
    "cm = sns.light_palette(\"green\", as_cmap=True)\n",
    "branch1 = layerwise.style.background_gradient(cmap=cm)\n",
    "branch1"
   ]
  },
  {
   "cell_type": "markdown",
   "metadata": {},
   "source": [
    "The model of branch1 is positive correlated to all other 5 branches.\n",
    "\n",
    "It's more similar to 4, 5, 6 than to 2 and 3.\n",
    "\n",
    "In the layers 7, 11, 15, 19, 23 model of branch1 is not correlated to model2 and model3. quite different in SVCCA correlation.\n"
   ]
  },
  {
   "cell_type": "code",
   "execution_count": null,
   "metadata": {},
   "outputs": [],
   "source": [
    "# mean model correlation of target branch 1 crosswise with branch1 to branch6 (index 0-5)\n",
    "layerwise.mean()"
   ]
  },
  {
   "cell_type": "code",
   "execution_count": null,
   "metadata": {},
   "outputs": [],
   "source": []
  }
 ],
 "metadata": {
  "kernelspec": {
   "display_name": "Python 3",
   "language": "python",
   "name": "python3"
  },
  "language_info": {
   "codemirror_mode": {
    "name": "ipython",
    "version": 3
   },
   "file_extension": ".py",
   "mimetype": "text/x-python",
   "name": "python",
   "nbconvert_exporter": "python",
   "pygments_lexer": "ipython3",
   "version": "3.7.4"
  }
 },
 "nbformat": 4,
 "nbformat_minor": 2
}
