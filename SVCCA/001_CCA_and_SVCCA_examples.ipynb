{
 "cells": [
  {
   "cell_type": "markdown",
   "metadata": {},
   "source": [
    "This document shows simple examples for:\n",
    "\n",
    "- Canonical Correlation Analysis\n",
    "- Singular Vector Correlation Analysis\n",
    "\n",
    "# CCA example with CNN models"
   ]
  },
  {
   "cell_type": "code",
   "execution_count": null,
   "metadata": {},
   "outputs": [],
   "source": [
    "import os, sys\n",
    "from matplotlib import pyplot as plt\n",
    "%matplotlib inline\n",
    "import time\n",
    "import numpy as np\n",
    "import pickle\n",
    "import pandas\n",
    "import gzip\n",
    "\n",
    "sys.path.append(\"..\")\n",
    "import cca_core"
   ]
  },
  {
   "cell_type": "code",
   "execution_count": null,
   "metadata": {},
   "outputs": [],
   "source": [
    "def _plot_helper(arr, xlabel, ylabel):\n",
    "    plt.plot(arr, lw=2.0)\n",
    "    plt.xlabel(xlabel)\n",
    "    plt.ylabel(ylabel)\n",
    "    plt.grid()"
   ]
  },
  {
   "cell_type": "markdown",
   "metadata": {},
   "source": [
    "# CCA sanity check\n",
    "Correlation of the same Activation Layers should be 1"
   ]
  },
  {
   "cell_type": "code",
   "execution_count": null,
   "metadata": {},
   "outputs": [],
   "source": [
    "# load activation from CNN\n",
    "from numpy import genfromtxt\n",
    "activation = genfromtxt('activations/m6_x6/4.csv', delimiter=',')\n",
    "activation.shape"
   ]
  },
  {
   "cell_type": "code",
   "execution_count": null,
   "metadata": {},
   "outputs": [],
   "source": [
    "# sanity check\n",
    "results_t = cca_core.get_cca_similarity(activation.T, activation.T, epsilon=1e-10) # small epsilon for convergence of algorithm\n",
    "\n",
    "plt.plot(results_t[\"cca_coef1\"])\n",
    "plt.ylim((0,1.1))\n",
    "print(\"Single number for summarizing similarity\")\n",
    "print('{:.4f}'.format(np.mean(results_t[\"cca_coef1\"])))"
   ]
  },
  {
   "cell_type": "code",
   "execution_count": null,
   "metadata": {},
   "outputs": [],
   "source": [
    "plt.plot(results_t[\"cca_coef2\"])\n",
    "plt.ylim((0,1.1))\n",
    "print(\"Single number for summarizing similarity\")\n",
    "print('{:.4f}'.format(np.mean(results_t[\"cca_coef2\"])))  # mean neuron correlation"
   ]
  },
  {
   "cell_type": "markdown",
   "metadata": {},
   "source": [
    "# CCA for layer4 of m5(x5), m6(x6), different input datapoints"
   ]
  },
  {
   "cell_type": "code",
   "execution_count": null,
   "metadata": {},
   "outputs": [],
   "source": [
    "# Try for Layer 5 activations from Model5 (data5) and Model6 (data6)\n",
    "from numpy import genfromtxt\n",
    "acts5 = genfromtxt('activations/m5_x5/4.csv', delimiter=',')\n",
    "acts6 = genfromtxt('activations/m6_x6/4.csv', delimiter=',')\n",
    "print(acts5.shape, acts6.shape)"
   ]
  },
  {
   "cell_type": "code",
   "execution_count": null,
   "metadata": {},
   "outputs": [],
   "source": [
    "result = cca_core.get_cca_similarity(acts5.T, acts6.T, epsilon=1e-10)\n",
    "\n",
    "plt.plot(result[\"cca_coef1\"])\n",
    "plt.ylim((0,1.1))\n",
    "print(\"Single number for summarizing similarity\")\n",
    "print('{:.4f}'.format(np.mean(result[\"cca_coef1\"])))  # mean neuron correlation"
   ]
  },
  {
   "cell_type": "markdown",
   "metadata": {},
   "source": [
    "# CCA for M5(X5) and M6(X5), use the same input datapoints"
   ]
  },
  {
   "cell_type": "code",
   "execution_count": null,
   "metadata": {},
   "outputs": [],
   "source": [
    "# Try for Layer 5 activations from Model5 (data5) and Model6 (data6)\n",
    "from numpy import genfromtxt\n",
    "acts5 = genfromtxt('activations/m5_x5/4.csv', delimiter=',')\n",
    "acts6 = genfromtxt('activations/m6_x5/4.csv', delimiter=',')\n",
    "print(acts5.shape, acts6.shape)"
   ]
  },
  {
   "cell_type": "code",
   "execution_count": null,
   "metadata": {},
   "outputs": [],
   "source": [
    "result = cca_core.get_cca_similarity(acts5.T, acts6.T, epsilon=1e-10)\n",
    "\n",
    "plt.plot(result[\"cca_coef1\"])\n",
    "plt.ylim((0,1.1))\n",
    "print(\"Single number for summarizing similarity\")\n",
    "print('{:.4f}'.format(np.mean(result[\"cca_coef1\"]))) # mean neuron correlation"
   ]
  },
  {
   "cell_type": "markdown",
   "metadata": {},
   "source": [
    "# SVCCA same x: M5(x5) M6(x5)\n"
   ]
  },
  {
   "cell_type": "code",
   "execution_count": null,
   "metadata": {},
   "outputs": [],
   "source": [
    "print(\"Results using SVCCA keeping 60 dims\")\n",
    "acts1 = np.genfromtxt('activations/m5_x5/8.csv', delimiter=',')\n",
    "acts2 = np.genfromtxt('activations/m6_x5/8.csv', delimiter=',')\n",
    "\n",
    "# Mean subtract activations\n",
    "cacts1 = acts1 - np.mean(acts1, axis=0, keepdims=True)\n",
    "cacts2 = acts2 - np.mean(acts2, axis=0, keepdims=True)\n",
    "\n",
    "# Perform SVD\n",
    "U1, s1, V1 = np.linalg.svd(cacts1, full_matrices=False)\n",
    "U2, s2, V2 = np.linalg.svd(cacts2, full_matrices=False)\n",
    "\n",
    "svacts1 = np.dot(s1[:60]*np.eye(60), V1[:60])\n",
    "# can also compute as svacts1 = np.dot(U1.T[:20], cacts1)\n",
    "svacts2 = np.dot(s2[:60]*np.eye(60), V2[:60])\n",
    "# can also compute as svacts1 = np.dot(U2.T[:20], cacts2)\n",
    "\n",
    "svcca_results = cca_core.get_cca_similarity(svacts1, svacts2, epsilon=1e-10, verbose=False)\n",
    "print(\"SVCAA mean layer correlation:\", np.mean(svcca_results[\"cca_coef1\"]))"
   ]
  },
  {
   "cell_type": "markdown",
   "metadata": {},
   "source": [
    "# SVCCA different x: M5(x5) M6(x6!!!)"
   ]
  },
  {
   "cell_type": "code",
   "execution_count": null,
   "metadata": {},
   "outputs": [],
   "source": [
    "# SVCCA different x\n",
    "print(\"Results using SVCCA keeping 60 dims\")\n",
    "acts1 = np.genfromtxt('activations/m5_x5/8.csv', delimiter=',')\n",
    "acts2 = np.genfromtxt('activations/m6_x6/8.csv', delimiter=',')\n",
    "\n",
    "# Mean subtract activations\n",
    "cacts1 = acts1 - np.mean(acts1, axis=0, keepdims=True)\n",
    "cacts2 = acts2 - np.mean(acts2, axis=0, keepdims=True)\n",
    "\n",
    "# Perform SVD\n",
    "U1, s1, V1 = np.linalg.svd(cacts1, full_matrices=False)\n",
    "U2, s2, V2 = np.linalg.svd(cacts2, full_matrices=False)\n",
    "\n",
    "svacts1 = np.dot(s1[:60]*np.eye(60), V1[:60])\n",
    "# can also compute as svacts1 = np.dot(U1.T[:20], cacts1)\n",
    "svacts2 = np.dot(s2[:60]*np.eye(60), V2[:60])\n",
    "# can also compute as svacts1 = np.dot(U2.T[:20], cacts2)\n",
    "\n",
    "svcca_results = cca_core.get_cca_similarity(svacts1, svacts2, epsilon=1e-10, verbose=False)\n",
    "print(\"SVCAA mean layer correlation:\", np.mean(svcca_results[\"cca_coef1\"]))"
   ]
  }
 ],
 "metadata": {
  "kernelspec": {
   "display_name": "Python 3",
   "language": "python",
   "name": "python3"
  },
  "language_info": {
   "codemirror_mode": {
    "name": "ipython",
    "version": 3
   },
   "file_extension": ".py",
   "mimetype": "text/x-python",
   "name": "python",
   "nbconvert_exporter": "python",
   "pygments_lexer": "ipython3",
   "version": "3.7.4"
  }
 },
 "nbformat": 4,
 "nbformat_minor": 2
}
